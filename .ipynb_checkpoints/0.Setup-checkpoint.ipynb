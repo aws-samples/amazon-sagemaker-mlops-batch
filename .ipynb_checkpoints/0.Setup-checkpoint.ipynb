{
 "cells": [
  {
   "cell_type": "markdown",
   "id": "84c41240-c6cd-4dce-882d-770a8f0eea33",
   "metadata": {},
   "source": [
    "## SageMaker Model Monitor (data quality) for SageMaker Batch Transform Jobs - Model Training & Baselining Pipeline"
   ]
  },
  {
   "cell_type": "markdown",
   "id": "8ca4d9f5-5e32-4f66-8deb-de555e1add3f",
   "metadata": {
    "tags": []
   },
   "source": [
    "# Setup: \n",
    " - Upload scipts to S3 for Model Train & Baseline Pipeline (used in Notebook 1)\n",
    " - Create IAM Role for Lambda functions (used in Notebook 2)"
   ]
  },
  {
   "cell_type": "code",
   "execution_count": 3,
   "id": "ec7727b9-e6cf-408d-8d48-820349bede4f",
   "metadata": {
    "tags": []
   },
   "outputs": [
    {
     "name": "stdout",
     "output_type": "stream",
     "text": [
      "Requirement already satisfied: pip in /opt/conda/lib/python3.7/site-packages (22.3.1)\n",
      "\u001b[33mWARNING: Running pip as the 'root' user can result in broken permissions and conflicting behaviour with the system package manager. It is recommended to use a virtual environment instead: https://pip.pypa.io/warnings/venv\u001b[0m\u001b[33m\n",
      "\u001b[0mRequirement already satisfied: sagemaker==2.114.0 in /opt/conda/lib/python3.7/site-packages (2.114.0)\n",
      "Requirement already satisfied: protobuf<4.0,>=3.1 in /opt/conda/lib/python3.7/site-packages (from sagemaker==2.114.0) (3.20.3)\n",
      "Requirement already satisfied: pathos in /opt/conda/lib/python3.7/site-packages (from sagemaker==2.114.0) (0.3.0)\n",
      "Requirement already satisfied: importlib-metadata<5.0,>=1.4.0 in /opt/conda/lib/python3.7/site-packages (from sagemaker==2.114.0) (4.13.0)\n",
      "Requirement already satisfied: protobuf3-to-dict<1.0,>=0.1.5 in /opt/conda/lib/python3.7/site-packages (from sagemaker==2.114.0) (0.1.5)\n",
      "Requirement already satisfied: boto3<2.0,>=1.20.21 in /opt/conda/lib/python3.7/site-packages (from sagemaker==2.114.0) (1.26.44)\n",
      "Requirement already satisfied: attrs<23,>=20.3.0 in /opt/conda/lib/python3.7/site-packages (from sagemaker==2.114.0) (22.1.0)\n",
      "Requirement already satisfied: numpy<2.0,>=1.9.0 in /opt/conda/lib/python3.7/site-packages (from sagemaker==2.114.0) (1.21.6)\n",
      "Requirement already satisfied: smdebug-rulesconfig==1.0.1 in /opt/conda/lib/python3.7/site-packages (from sagemaker==2.114.0) (1.0.1)\n",
      "Requirement already satisfied: pandas in /opt/conda/lib/python3.7/site-packages (from sagemaker==2.114.0) (1.3.5)\n",
      "Requirement already satisfied: google-pasta in /opt/conda/lib/python3.7/site-packages (from sagemaker==2.114.0) (0.2.0)\n",
      "Requirement already satisfied: packaging>=20.0 in /opt/conda/lib/python3.7/site-packages (from sagemaker==2.114.0) (20.1)\n",
      "Requirement already satisfied: schema in /opt/conda/lib/python3.7/site-packages (from sagemaker==2.114.0) (0.7.5)\n",
      "Requirement already satisfied: botocore<1.30.0,>=1.29.44 in /opt/conda/lib/python3.7/site-packages (from boto3<2.0,>=1.20.21->sagemaker==2.114.0) (1.29.44)\n",
      "Requirement already satisfied: jmespath<2.0.0,>=0.7.1 in /opt/conda/lib/python3.7/site-packages (from boto3<2.0,>=1.20.21->sagemaker==2.114.0) (1.0.1)\n",
      "Requirement already satisfied: s3transfer<0.7.0,>=0.6.0 in /opt/conda/lib/python3.7/site-packages (from boto3<2.0,>=1.20.21->sagemaker==2.114.0) (0.6.0)\n",
      "Requirement already satisfied: zipp>=0.5 in /opt/conda/lib/python3.7/site-packages (from importlib-metadata<5.0,>=1.4.0->sagemaker==2.114.0) (3.11.0)\n",
      "Requirement already satisfied: typing-extensions>=3.6.4 in /opt/conda/lib/python3.7/site-packages (from importlib-metadata<5.0,>=1.4.0->sagemaker==2.114.0) (4.4.0)\n",
      "Requirement already satisfied: six in /opt/conda/lib/python3.7/site-packages (from packaging>=20.0->sagemaker==2.114.0) (1.14.0)\n",
      "Requirement already satisfied: pyparsing>=2.0.2 in /opt/conda/lib/python3.7/site-packages (from packaging>=20.0->sagemaker==2.114.0) (2.4.6)\n",
      "Requirement already satisfied: python-dateutil>=2.7.3 in /opt/conda/lib/python3.7/site-packages (from pandas->sagemaker==2.114.0) (2.8.2)\n",
      "Requirement already satisfied: pytz>=2017.3 in /opt/conda/lib/python3.7/site-packages (from pandas->sagemaker==2.114.0) (2019.3)\n",
      "Requirement already satisfied: dill>=0.3.6 in /opt/conda/lib/python3.7/site-packages (from pathos->sagemaker==2.114.0) (0.3.6)\n",
      "Requirement already satisfied: multiprocess>=0.70.14 in /opt/conda/lib/python3.7/site-packages (from pathos->sagemaker==2.114.0) (0.70.14)\n",
      "Requirement already satisfied: pox>=0.3.2 in /opt/conda/lib/python3.7/site-packages (from pathos->sagemaker==2.114.0) (0.3.2)\n",
      "Requirement already satisfied: ppft>=1.7.6.6 in /opt/conda/lib/python3.7/site-packages (from pathos->sagemaker==2.114.0) (1.7.6.6)\n",
      "Requirement already satisfied: contextlib2>=0.5.5 in /opt/conda/lib/python3.7/site-packages (from schema->sagemaker==2.114.0) (0.6.0.post1)\n",
      "Requirement already satisfied: urllib3<1.27,>=1.25.4 in /opt/conda/lib/python3.7/site-packages (from botocore<1.30.0,>=1.29.44->boto3<2.0,>=1.20.21->sagemaker==2.114.0) (1.26.13)\n",
      "\u001b[33mWARNING: Running pip as the 'root' user can result in broken permissions and conflicting behaviour with the system package manager. It is recommended to use a virtual environment instead: https://pip.pypa.io/warnings/venv\u001b[0m\u001b[33m\n",
      "\u001b[0mRequirement already satisfied: boto3 in /opt/conda/lib/python3.7/site-packages (1.26.44)\n",
      "Requirement already satisfied: jmespath<2.0.0,>=0.7.1 in /opt/conda/lib/python3.7/site-packages (from boto3) (1.0.1)\n",
      "Requirement already satisfied: s3transfer<0.7.0,>=0.6.0 in /opt/conda/lib/python3.7/site-packages (from boto3) (0.6.0)\n",
      "Requirement already satisfied: botocore<1.30.0,>=1.29.44 in /opt/conda/lib/python3.7/site-packages (from boto3) (1.29.44)\n",
      "Requirement already satisfied: urllib3<1.27,>=1.25.4 in /opt/conda/lib/python3.7/site-packages (from botocore<1.30.0,>=1.29.44->boto3) (1.26.13)\n",
      "Requirement already satisfied: python-dateutil<3.0.0,>=2.1 in /opt/conda/lib/python3.7/site-packages (from botocore<1.30.0,>=1.29.44->boto3) (2.8.2)\n",
      "Requirement already satisfied: six>=1.5 in /opt/conda/lib/python3.7/site-packages (from python-dateutil<3.0.0,>=2.1->botocore<1.30.0,>=1.29.44->boto3) (1.14.0)\n",
      "\u001b[33mWARNING: Running pip as the 'root' user can result in broken permissions and conflicting behaviour with the system package manager. It is recommended to use a virtual environment instead: https://pip.pypa.io/warnings/venv\u001b[0m\u001b[33m\n",
      "\u001b[0m"
     ]
    }
   ],
   "source": [
    "# Uncomment if not using latest version of SageMaker SDK\n",
    "import sys\n",
    "\n",
    "! pip install --upgrade pip\n",
    "!{sys.executable} -m pip install sagemaker==2.114.0\n",
    "!{sys.executable} -m pip install -U boto3"
   ]
  },
  {
   "cell_type": "code",
   "execution_count": 4,
   "id": "de2e82c8-ce92-4acf-93c5-a2ed09b5c144",
   "metadata": {
    "tags": []
   },
   "outputs": [
    {
     "data": {
      "text/plain": [
       "{'status': 'ok', 'restart': True}"
      ]
     },
     "execution_count": 4,
     "metadata": {},
     "output_type": "execute_result"
    }
   ],
   "source": [
    "import IPython\n",
    "IPython.Application.instance().kernel.do_shutdown(True)  # has to restart kernel so changes are used"
   ]
  },
  {
   "cell_type": "code",
   "execution_count": 5,
   "id": "eaaadc74-5506-4185-bd91-1dcb2b5987a6",
   "metadata": {
    "tags": []
   },
   "outputs": [],
   "source": [
    "import os\n",
    "import time\n",
    "import boto3\n",
    "import sagemaker"
   ]
  },
  {
   "cell_type": "code",
   "execution_count": 6,
   "id": "62be9dbd-4467-400a-b6d7-89bbf7cadb1d",
   "metadata": {
    "tags": []
   },
   "outputs": [],
   "source": [
    "# Setup SageMaker variables\n",
    "from sagemaker.workflow.pipeline_context import PipelineSession\n",
    "session = PipelineSession()\n",
    "bucket = session.default_bucket()\n",
    "role_arn= sagemaker.get_execution_role()\n",
    "region = session.boto_region_name\n",
    "sagemaker_client = boto3.client('sagemaker')\n",
    "aws_account_id = boto3.client('sts').get_caller_identity().get('Account')"
   ]
  },
  {
   "cell_type": "code",
   "execution_count": 7,
   "id": "c411aa33-dabf-436a-af20-c49e8e5c75ee",
   "metadata": {
    "tags": []
   },
   "outputs": [
    {
     "name": "stdout",
     "output_type": "stream",
     "text": [
      "Demo Bucket: sagemaker-us-east-1-171503325295\n"
     ]
    }
   ],
   "source": [
    "# Setup S3 paths for pipeline inputs, outputs, & artifacts\n",
    "print(\"Demo Bucket: {}\".format(bucket))\n",
    "bucket_prefix = f\"aim321-demo-model-monitor-batch-transform\""
   ]
  },
  {
   "cell_type": "code",
   "execution_count": 8,
   "id": "83697c95-5769-4744-adf1-ff1450cac06a",
   "metadata": {
    "tags": []
   },
   "outputs": [],
   "source": [
    "# Upload Data Preprocessing Script to S3 \n",
    "s3_client = boto3.client(\"s3\", region_name=boto3.Session().region_name)\n",
    "\n",
    "processing_script = \"preprocessing.py\"\n",
    "evaluation_script = \"evaluation.py\"\n",
    "\n",
    "s3_client.upload_file(\n",
    "    Filename=f\"pipeline_scripts/{processing_script}\",\n",
    "    Bucket=bucket,\n",
    "    Key=f\"{bucket_prefix}/scripts/{processing_script}\",\n",
    ")\n",
    "s3_client.upload_file(\n",
    "    Filename=f\"pipeline_scripts/{evaluation_script}\",\n",
    "    Bucket=bucket,\n",
    "    Key=f\"{bucket_prefix}/scripts/{evaluation_script}\",\n",
    ")"
   ]
  },
  {
   "cell_type": "markdown",
   "id": "075a3179-fbbd-42e8-8459-ce52c2b59fbb",
   "metadata": {},
   "source": [
    "# Create IAM Role"
   ]
  },
  {
   "cell_type": "markdown",
   "id": "74c98c70-baef-4224-b428-8f7a135a71aa",
   "metadata": {},
   "source": [
    "[[ SKN ]] Enable \"IAMFullAccess\", \"AWSLambda_FullAccess\", \"CloudWatchFullAccess\" in IAM for SageMaker Execution Role"
   ]
  },
  {
   "cell_type": "code",
   "execution_count": 9,
   "id": "bd72c8e6-f31d-4c1b-9a2c-4ce837ccda2d",
   "metadata": {
    "tags": []
   },
   "outputs": [
    {
     "name": "stdout",
     "output_type": "stream",
     "text": [
      "Using ARN from existing role: Lambda-SageMaker-GetModelRole\n",
      "Lambda Role: arn:aws:iam::171503325295:role/Lambda-SageMaker-GetModelRole\n"
     ]
    }
   ],
   "source": [
    "# Create Lambda execution role for Lambda Function using helper function\n",
    "from iam_helper import create_lambda_role\n",
    "\n",
    "lambda_role = create_lambda_role(\"Lambda-SageMaker-GetModelRole\") \n",
    "print('Lambda Role:', lambda_role)"
   ]
  },
  {
   "cell_type": "code",
   "execution_count": null,
   "id": "8b551059-5f70-4183-9411-47181aa8cba0",
   "metadata": {
    "tags": []
   },
   "outputs": [],
   "source": [
    "### Delete pipeline when needed for cleanup \n",
    "\n",
    "sagemaker_client.delete_pipeline(PipelineName='aim321-train-baseline-pipeline-1')"
   ]
  },
  {
   "cell_type": "code",
   "execution_count": null,
   "id": "1aaecf96-bb02-4967-81a4-871d517da266",
   "metadata": {},
   "outputs": [],
   "source": []
  }
 ],
 "metadata": {
  "instance_type": "ml.t3.medium",
  "kernelspec": {
   "display_name": "Python 3 (Data Science)",
   "language": "python",
   "name": "python3__SAGEMAKER_INTERNAL__arn:aws:sagemaker:us-east-1:081325390199:image/datascience-1.0"
  },
  "language_info": {
   "codemirror_mode": {
    "name": "ipython",
    "version": 3
   },
   "file_extension": ".py",
   "mimetype": "text/x-python",
   "name": "python",
   "nbconvert_exporter": "python",
   "pygments_lexer": "ipython3",
   "version": "3.7.10"
  }
 },
 "nbformat": 4,
 "nbformat_minor": 5
}
