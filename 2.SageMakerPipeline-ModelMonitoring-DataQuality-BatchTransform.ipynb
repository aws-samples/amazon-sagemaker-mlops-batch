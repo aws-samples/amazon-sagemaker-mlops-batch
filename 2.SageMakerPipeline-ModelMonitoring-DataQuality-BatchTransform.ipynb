{
 "cells": [
  {
   "cell_type": "markdown",
   "id": "84c41240-c6cd-4dce-882d-770a8f0eea33",
   "metadata": {
    "tags": []
   },
   "source": [
    "## SageMaker Model Monitor (data quality) for SageMaker Batch Transform Jobs - Model Scoring Pipeline  Pipeline\n",
    "![Demo Scope](./images/AIM321-Demo-Deploy-Scenario-1.jpg)"
   ]
  },
  {
   "cell_type": "code",
   "execution_count": null,
   "id": "6967670f-22f7-40c1-aed6-708ce81bf0f0",
   "metadata": {
    "scrolled": true,
    "tags": []
   },
   "outputs": [],
   "source": [
    "#import sys\n",
    "\n",
    "#! pip install --upgrade pip\n",
    "#!{sys.executable} -m pip install sagemaker==2.114.0\n",
    "#!{sys.executable} -m pip install -U boto3"
   ]
  },
  {
   "cell_type": "code",
   "execution_count": null,
   "id": "3acef961-5c67-43c5-84cc-504a27a2207a",
   "metadata": {
    "tags": []
   },
   "outputs": [],
   "source": [
    "#If you run this notebook in SageMaker Studio, you need to make sure latest python SDK is installed and restart the kernel, \n",
    "#so please uncomment the code in the next cell, and run it.\n",
    "#import IPython\n",
    "#IPython.Application.instance().kernel.do_shutdown(True)  # has to restart kernel so changes are used"
   ]
  },
  {
   "cell_type": "markdown",
   "id": "33f87e80-d7e8-408f-9bd1-04a2f940ab1f",
   "metadata": {},
   "source": [
    "# Setup\n",
    "\n",
    "In this section, we'll import libraries and setup variables needed to configure pipeline steps and construct the batch scoring & monitoring pipeline. "
   ]
  },
  {
   "cell_type": "code",
   "execution_count": null,
   "id": "199a46fa-bde2-40f5-ae5b-a6c6faf1d895",
   "metadata": {
    "tags": []
   },
   "outputs": [],
   "source": [
    "import os\n",
    "import boto3\n",
    "import re\n",
    "import time\n",
    "from time import gmtime, strftime\n",
    "import json\n",
    "import pandas as pd\n",
    "import sagemaker\n",
    "\n",
    "# SageMaker Job Imports (ex. Processing, Batch Inference) \n",
    "from sagemaker.transformer import Transformer\n",
    "from sagemaker.image_uris import retrieve\n",
    "\n",
    "# SageMaker Pipeline Imports \n",
    "from sagemaker.workflow.pipeline_context import PipelineSession\n",
    "from sagemaker.workflow.model_step import ModelStep\n",
    "\n",
    "from sagemaker.workflow.lambda_step import (\n",
    "    LambdaStep,\n",
    "    LambdaOutput,\n",
    "    LambdaOutputTypeEnum,\n",
    ")\n",
    "from sagemaker.lambda_helper import Lambda\n",
    "\n",
    "from sagemaker.workflow.execution_variables import ExecutionVariables\n",
    "\n",
    "from sagemaker.workflow.parameters import (\n",
    "    ParameterBoolean,\n",
    "    ParameterInteger,\n",
    "    ParameterString,\n",
    ")\n",
    "\n",
    "from sagemaker.model_monitor import DefaultModelMonitor\n",
    "from sagemaker.model_monitor.dataset_format import DatasetFormat\n",
    "from sagemaker.workflow.check_job_config import CheckJobConfig\n",
    "from sagemaker.workflow.quality_check_step import DataQualityCheckConfig\n",
    "\n",
    "from sagemaker.workflow.steps import CacheConfig"
   ]
  },
  {
   "cell_type": "code",
   "execution_count": null,
   "id": "eaaadc74-5506-4185-bd91-1dcb2b5987a6",
   "metadata": {
    "tags": []
   },
   "outputs": [],
   "source": [
    "region = boto3.Session().region_name\n",
    "pipeline_session = PipelineSession()\n",
    "aws_account_id = boto3.client('sts').get_caller_identity().get('Account')\n",
    "role = sagemaker.get_execution_role()\n",
    "print(\"RoleArn: {}\".format(role))"
   ]
  },
  {
   "cell_type": "code",
   "execution_count": null,
   "id": "c411aa33-dabf-436a-af20-c49e8e5c75ee",
   "metadata": {
    "tags": []
   },
   "outputs": [],
   "source": [
    "bucket = pipeline_session.default_bucket()\n",
    "prefix = f\"demo-model-monitor-batch-transform/{int(time.time())}\"\n",
    "\n",
    "batch_transform_output_path = \"s3://{}/{}/batch-transform-outputs\".format(bucket, prefix)\n",
    "batch_monitor_reports_output_path = \"s3://{}/{}/data-quality-monitor-reports\".format(bucket, prefix)\n",
    "\n",
    "\n",
    "print(\"Batch Transform Output path: {}\".format(batch_transform_output_path))\n",
    "print(\"Batch Transform Data Drift Monitoring Output path: {}\".format(batch_monitor_reports_output_path))"
   ]
  },
  {
   "cell_type": "markdown",
   "id": "e5542211-a27b-4f64-9cf8-adc92684e8d7",
   "metadata": {},
   "source": [
    "## 2. Configure Model Deploy & Monitor Pipeline Steps"
   ]
  },
  {
   "cell_type": "markdown",
   "id": "701b5a51-ac62-424f-9340-9626901718c3",
   "metadata": {},
   "source": [
    "![Step1d](./images/AIM321-Deploy-LambdaStep.jpg)"
   ]
  },
  {
   "cell_type": "markdown",
   "id": "5963a4dd-fe08-40fa-9b1c-69d7e5127f2f",
   "metadata": {},
   "source": [
    "### 2-A. Create Lambda Function Code\n",
    "\n",
    "In order to get the latest approved model we will need a Lambda function to query the Model Registry. This Lambfa function will output the Model Package ARN, basline statistics and constraints S3 URI that was created in part 1. "
   ]
  },
  {
   "cell_type": "code",
   "execution_count": null,
   "id": "907912c6-1c32-4dfb-bf82-b42f5e9ad0fa",
   "metadata": {
    "tags": []
   },
   "outputs": [],
   "source": [
    "%%writefile lambda_getapproved_model.py\n",
    "\n",
    "\"\"\"\n",
    "This Lambda function queries SageMaker Model Registry for a specific model package \n",
    "group provided on input to identify the latest approved model version and return related metadata. \n",
    "The output includes: \n",
    "(1) model package arn (2) packaged model name (3) S3 URI for statistics baseline \n",
    "(4) S3 URI for constraints baseline  \n",
    "The output is then used as input into the next step in the pipeline that\n",
    "performs batch monitoring and scoring using the latest approved model. \n",
    "\"\"\"\n",
    "\n",
    "import json\n",
    "import boto3\n",
    "from botocore.exceptions import ClientError\n",
    "\n",
    "import logging\n",
    "import os\n",
    "\n",
    "def lambda_handler(event, context):\n",
    "    \"\"\" \"\"\"\n",
    "    sm_client = boto3.client(\"sagemaker\")\n",
    "    logger = logging.getLogger()\n",
    "    logger.setLevel(os.getenv(\"LOGGING_LEVEL\", logging.INFO))\n",
    "\n",
    "    # The model package group name\n",
    "    model_package_group_name = event[\"model_package_group_name\"]\n",
    "    print(model_package_group_name)\n",
    "    \n",
    "    try:\n",
    "\n",
    "        approved_model_response = sm_client.list_model_packages(\n",
    "            ModelPackageGroupName=model_package_group_name,\n",
    "            ModelApprovalStatus=\"Approved\",\n",
    "            SortBy=\"CreationTime\"\n",
    "        )\n",
    "        \n",
    "        model_package_arn = approved_model_response[\"ModelPackageSummaryList\"][0][\"ModelPackageArn\"]\n",
    "        logger.info(f\"Identified the latest approved model package: {model_package_arn}\")\n",
    "        \n",
    "        s3_baseline_uri_response = sm_client.describe_model_package(\n",
    "            ModelPackageName=model_package_arn        \n",
    "        )\n",
    "        \n",
    "        s3_baseline_uri_statistics = s3_baseline_uri_response[\"ModelMetrics\"][\"ModelDataQuality\"][\"Statistics\"][\"S3Uri\"]\n",
    "        s3_baseline_uri_constraints = s3_baseline_uri_response[\"ModelMetrics\"][\"ModelDataQuality\"][\"Constraints\"][\"S3Uri\"]\n",
    "        model_name = s3_baseline_uri_response[\"CustomerMetadataProperties\"][\"ModelName\"]\n",
    "        \n",
    "        logger.info(f\"Identified the latest data quality baseline statistics for approved model package: {s3_baseline_uri_statistics}\")\n",
    "        logger.info(f\"Identified the latest data quality baseline constraints for approved model package: {s3_baseline_uri_constraints}\")\n",
    "        \n",
    "        return {\n",
    "        \"statusCode\": 200,\n",
    "        \"modelArn\": model_package_arn,\n",
    "        \"s3uriConstraints\": s3_baseline_uri_constraints,\n",
    "        \"s3uriStatistics\": s3_baseline_uri_statistics,\n",
    "        \"modelName\": model_name\n",
    "        }\n",
    "\n",
    "    \n",
    "    except ClientError as e:\n",
    "        error_message = e.response[\"Error\"][\"Message\"]\n",
    "        logger.error(error_message)\n",
    "        raise Exception(error_message)"
   ]
  },
  {
   "cell_type": "markdown",
   "id": "b18c356a-6d83-4e55-bb86-77dd4d5af3ed",
   "metadata": {},
   "source": [
    "### Create & Configure the Lambda Pipeline Step\n",
    "\n",
    "Once we have the Lambda function python script we can then use the SageMaker Python SDK `LambdaStep` to create a Lambda function as part of the pipeline. The `Lambda` helper class points to the python script and Lambda configurations which is used by the `LambdaStep`. "
   ]
  },
  {
   "cell_type": "code",
   "execution_count": null,
   "id": "d74ba2d1-1cce-4b81-a15b-680047943ff7",
   "metadata": {
    "tags": []
   },
   "outputs": [],
   "source": [
    "\n",
    "\n",
    "lambda_role_arn = f\"arn:aws:iam::{aws_account_id}:role/Lambda-SageMaker-GetModelRole\"\n",
    "lambda_role_arn\n"
   ]
  },
  {
   "cell_type": "code",
   "execution_count": null,
   "id": "93eabd4e-c357-45bc-b8d2-d8f61f7ae505",
   "metadata": {
    "tags": []
   },
   "outputs": [],
   "source": [
    "# Use the current time to define unique names for the resources created\n",
    "current_time = time.strftime(\"%m-%d-%H-%M-%S\", time.localtime())\n",
    "function_name = \"getapprovedmodel-sagemaker-step\" + current_time\n",
    "\n",
    "\n",
    "# This value should be changed to match the name of your model package group \n",
    "model_package_group_name = \"customer-churn\"\n",
    "\n",
    "# Lambda helper class can be used to create the Lambda function\n",
    "func = Lambda(\n",
    "    function_name=function_name,\n",
    "    execution_role_arn=lambda_role_arn,\n",
    "    script=\"lambda_getapproved_model.py\",\n",
    "    handler=\"lambda_getapproved_model.lambda_handler\",\n",
    "    timeout=600,\n",
    "    memory_size=128,\n",
    ")\n",
    "\n",
    "# The dictionary retured by the Lambda function is captured by LambdaOutput, each key in the dictionary corresponds to a\n",
    "# LambdaOutput\n",
    "\n",
    "output_param_1 = LambdaOutput(output_name=\"statusCode\", output_type=LambdaOutputTypeEnum.String)\n",
    "output_param_2 = LambdaOutput(output_name=\"modelArn\", output_type=LambdaOutputTypeEnum.String)\n",
    "output_param_3 = LambdaOutput(output_name=\"s3uriConstraints\", output_type=LambdaOutputTypeEnum.String)\n",
    "output_param_4 = LambdaOutput(output_name=\"s3uriStatistics\", output_type=LambdaOutputTypeEnum.String)\n",
    "output_param_5 = LambdaOutput(output_name=\"modelName\", output_type=LambdaOutputTypeEnum.String)\n",
    "\n",
    "lambda_getmodel_step = LambdaStep(\n",
    "    name=\"LambdaStepGetApprovedModel\",\n",
    "    lambda_func=func,\n",
    "    inputs={\n",
    "        \"model_package_group_name\": model_package_group_name\n",
    "     },\n",
    "    outputs=[output_param_1, output_param_2,output_param_3,output_param_4,output_param_5])"
   ]
  },
  {
   "cell_type": "markdown",
   "id": "06a285d4-72fc-4ee7-8f26-1869cc770ffd",
   "metadata": {},
   "source": [
    "![Step2](images/AIM321-Deploy-Monitor.jpg)"
   ]
  },
  {
   "cell_type": "markdown",
   "id": "03588123-091b-42b0-97c3-10f8d6e8b632",
   "metadata": {
    "tags": []
   },
   "source": [
    "### 2-B. Setup Runtime Pipeline Parameter for Batch Transform & Monitor Step\n",
    "\n",
    "This batch deployment & data quality monitoring pipeline will take the *s3://* uri of the batch prediction input data on input.  This is parameterized to allow for each run of the pipeline to include a new input dataset. "
   ]
  },
  {
   "cell_type": "code",
   "execution_count": null,
   "id": "c20afd87-d93e-4572-a625-7141729d03ba",
   "metadata": {
    "tags": []
   },
   "outputs": [],
   "source": [
    "# The line below will run the pipeline using clean input - doesn't generate violations\n",
    "#batch_prediction_data = \"s3://aws-ml-blog/artifacts/ml_workshop/AIM321/churn-prediction-input.csv\"\n",
    "\n",
    "# The line below is using input that has been modified to having values out of range and missing\n",
    "batch_prediction_data = \"s3://aws-ml-blog/artifacts/ml_workshop/AIM321/churn-prediction-input-missing.csv\"\n",
    "batch_prediction_data\n",
    "\n",
    "#batch_prediction_data = \"s3://sagemaker-us-east-1-550263679080/aim321-demo-model-monitor-batch-transform/batch_prediction/churn-prediction-input-missing.csv\"\n",
    "#batch_prediction_data\n",
    "\n"
   ]
  },
  {
   "cell_type": "markdown",
   "id": "f9083c87-d27e-4b67-a3b0-7b6c2b8ef3b1",
   "metadata": {},
   "source": [
    "We make use of `ParameterString` in the Pipeline in order to parameterize the Pipeline to take input data as a parameter. "
   ]
  },
  {
   "cell_type": "code",
   "execution_count": null,
   "id": "4a03697f-017e-471a-8ad0-92784c4d89c6",
   "metadata": {
    "tags": []
   },
   "outputs": [],
   "source": [
    "transform_input_param = ParameterString(\n",
    "    name=\"transform_input\",\n",
    "    default_value=batch_prediction_data,\n",
    ")"
   ]
  },
  {
   "cell_type": "markdown",
   "id": "8bc90ff0-3c5a-4a2d-b8ea-fe1d7335c776",
   "metadata": {},
   "source": [
    "### Configure a transformer for SageMaker Batch Transform Job\n",
    "\n",
    "In order to add Transform Job to the Pipeline there is some configration we need to set up. We set the Batch Transform Job specifications such as the instance_type and instance_count in the `Transfomer`. \n",
    "For all available options take a look at the [`Transfomer` docs](https://sagemaker.readthedocs.io/en/stable/api/inference/transformer.html#transformer).\n",
    "\n",
    "We are also joining the first all rows from the first column of the input to the output. Take a look at [Associating Prediction Results with Input Records](https://docs.aws.amazon.com/sagemaker/latest/dg/batch-transform-data-processing.html#data-processing-operators) for more information.\n"
   ]
  },
  {
   "cell_type": "code",
   "execution_count": null,
   "id": "383df859-3025-4586-b4e8-062712eb29f8",
   "metadata": {
    "tags": []
   },
   "outputs": [],
   "source": [
    "transformer = Transformer(\n",
    "    model_name=lambda_getmodel_step.properties.Outputs[\"modelName\"],\n",
    "    instance_count=1,\n",
    "    instance_type=\"ml.m5.xlarge\",\n",
    "    accept=\"text/csv\",\n",
    "    assemble_with=\"Line\",\n",
    "    output_path=batch_transform_output_path,\n",
    "    sagemaker_session=pipeline_session,\n",
    ")"
   ]
  },
  {
   "cell_type": "code",
   "execution_count": null,
   "id": "3c1588b0-a7f5-43e2-bba3-a32140f1f16e",
   "metadata": {
    "tags": []
   },
   "outputs": [],
   "source": [
    "transform_arg = transformer.transform(\n",
    "    transform_input_param,\n",
    "    content_type=\"text/csv\",\n",
    "    split_type=\"Line\",\n",
    "    input_filter=\"$[1:]\",\n",
    ")"
   ]
  },
  {
   "cell_type": "markdown",
   "id": "ac43b32c-26dd-4007-87f8-02c739dfacf9",
   "metadata": {},
   "source": [
    "### Configure the data quality monitor for the SageMaker Batch Transform Job\n",
    "\n",
    "The data quality monitor accepts the S3 URI of the baseline statistics and constraints specific to the approved model version from SageMaker Model Registry.  The baseline is then used to run the data quality monitoring job during pipeline execution comparing the batch prediction input data with baseline data to identify any violations signaling potential data drift. "
   ]
  },
  {
   "cell_type": "code",
   "execution_count": null,
   "id": "0c44b943-d708-4d8c-81ec-5283b91f3726",
   "metadata": {
    "tags": []
   },
   "outputs": [],
   "source": [
    "job_config = CheckJobConfig(role=role)\n",
    "data_quality_config = DataQualityCheckConfig(\n",
    "    baseline_dataset=transform_input_param,\n",
    "    dataset_format=DatasetFormat.csv(header=False),\n",
    "    output_s3_uri=batch_monitor_reports_output_path,\n",
    ")"
   ]
  },
  {
   "cell_type": "markdown",
   "id": "b9c052dc-64ad-463a-b2fd-89299f15efd9",
   "metadata": {},
   "source": [
    "### Use the `MonitorBatchTransformStep` to run & monitor the transform job\n",
    "\n",
    "This step runs a batch transform job using the transformer object configured above and monitors the data passed to the transformer before executing the job.\n",
    "\n",
    "**Note:** You can configure the step to fail if a violation to Data Quality is found by toggling the `fail_on_violation` flag."
   ]
  },
  {
   "cell_type": "code",
   "execution_count": null,
   "id": "ca1b39c4-443b-4f7f-a1d0-96cf4daff097",
   "metadata": {
    "tags": []
   },
   "outputs": [],
   "source": [
    "from sagemaker.workflow.monitor_batch_transform_step import MonitorBatchTransformStep\n",
    "\n",
    "transform_and_monitor_step = MonitorBatchTransformStep(\n",
    "    name=\"MonitorCustomerChurnDataQuality\",\n",
    "    transform_step_args=transform_arg,\n",
    "    monitor_configuration=data_quality_config,\n",
    "    check_job_configuration=job_config,\n",
    "    monitor_before_transform=True,\n",
    "    # if violation is detected in the monitoring, you can skip it and continue running batch transform\n",
    "    fail_on_violation=False,\n",
    "    supplied_baseline_statistics=lambda_getmodel_step.properties.Outputs[\"s3uriStatistics\"],\n",
    "    supplied_baseline_constraints=lambda_getmodel_step.properties.Outputs[\"s3uriConstraints\"],\n",
    ")"
   ]
  },
  {
   "cell_type": "markdown",
   "id": "5f0e4c78-9864-4a13-88d2-ba5023a60091",
   "metadata": {},
   "source": [
    "![Pipeline](./images/AIM321-Deploy-Create-Pipeline.jpg)"
   ]
  },
  {
   "cell_type": "code",
   "execution_count": null,
   "id": "15e11f94-4b8c-4269-8295-e56267db1b52",
   "metadata": {
    "tags": []
   },
   "outputs": [],
   "source": [
    "from sagemaker.workflow.pipeline import Pipeline\n",
    "\n",
    "pipeline_name = 'sagemaker-batch-inference-monitor'\n",
    "\n",
    "batch_monitor_pipeline = Pipeline(\n",
    "    name=pipeline_name,\n",
    "    parameters=[transform_input_param],\n",
    "    steps=[\n",
    "        lambda_getmodel_step, \n",
    "        transform_and_monitor_step\n",
    "    ],\n",
    ")"
   ]
  },
  {
   "cell_type": "markdown",
   "id": "3b956383-18fb-4c67-bf0f-1d396398e3f9",
   "metadata": {},
   "source": [
    "Note: In order for the LambdaStep to sucesfully run, the model in the Model Registry needs to be approved. \n",
    "\n",
    "Please take a look at this the [Update the Approval Status of a Model](https://docs.aws.amazon.com/sagemaker/latest/dg/model-registry-approve.html) for details on how to approve the model in the Model Reigstry. "
   ]
  },
  {
   "cell_type": "code",
   "execution_count": null,
   "id": "dca86add-96c1-4aad-bfe0-ddd8baa6f9c3",
   "metadata": {
    "tags": []
   },
   "outputs": [],
   "source": [
    "batch_monitor_pipeline.upsert(role_arn=role)"
   ]
  },
  {
   "cell_type": "markdown",
   "id": "e997e3d6-6789-441b-9637-e9f3c9223199",
   "metadata": {},
   "source": [
    "### Start a pipeline execution"
   ]
  },
  {
   "cell_type": "code",
   "execution_count": null,
   "id": "eaa8632c-4a19-4ba8-ac76-604621500a06",
   "metadata": {
    "tags": []
   },
   "outputs": [],
   "source": [
    "execution = batch_monitor_pipeline.start()"
   ]
  },
  {
   "cell_type": "markdown",
   "id": "d9b253f9-3877-44a8-9e69-336aa6e5b925",
   "metadata": {
    "tags": []
   },
   "source": [
    "## Read the model monitor reports\n",
    "\n",
    "You must wait for the pipeline to finish executing before you can read the violation reports.\n",
    "\n",
    "This pipeline succeeds even though violations are found by model monitor because `fail_on_violation` is set to `False`.\n",
    "\n",
    "![Step2](./images/AIM321-Monitor-Output-1.jpg)"
   ]
  },
  {
   "cell_type": "markdown",
   "id": "9b1600b4-00e6-4808-a7aa-1dc47c924b03",
   "metadata": {},
   "source": [
    "## Constraints Violations S3 Report: *constraints_violations.json*"
   ]
  },
  {
   "cell_type": "code",
   "execution_count": null,
   "id": "66e2d72f-54aa-4b05-9ed1-f40c15b4dbaa",
   "metadata": {
    "tags": []
   },
   "outputs": [],
   "source": [
    "sm_client = boto3.client(\"sagemaker\")\n",
    "import time\n",
    "\n",
    "while True:\n",
    "    \n",
    "    status = sm_client.describe_pipeline_execution(\n",
    "        PipelineExecutionArn=execution.arn\n",
    "    )['PipelineExecutionStatus']\n",
    "    \n",
    "\n",
    "    if status != \"Succeeded\":\n",
    "        print(f\"Pipeline in status: {status}\")\n",
    "    else:\n",
    "        print(f\"Pipeline in status: {status}\")\n",
    "        status = response['PipelineExecutionStatus']\n",
    "\n",
    "        from sagemaker.model_monitor import MonitoringExecution\n",
    "\n",
    "        monitoring_step = [step for step in execution.list_steps() if \"QualityCheck\" in step[\"Metadata\"]][0]\n",
    "\n",
    "        monitoring = MonitoringExecution.from_processing_arn(\n",
    "            sagemaker_session=pipeline_session,\n",
    "            processing_job_arn=monitoring_step[\"Metadata\"][\"QualityCheck\"][\"CheckJobArn\"],\n",
    "        )\n",
    "\n",
    "        violation = monitoring.constraint_violations(file_name=\"constraint_violations.json\")\n",
    "        break\n",
    "        \n",
    "    time.sleep(30)\n"
   ]
  },
  {
   "cell_type": "code",
   "execution_count": null,
   "id": "69b5b2b9-68db-4bd4-9840-1c70090a5b90",
   "metadata": {
    "tags": []
   },
   "outputs": [],
   "source": [
    "pd.set_option(\"display.max_colwidth\", 1)\n",
    "\n",
    "constraints_df = pd.json_normalize(violation.body_dict[\"violations\"])\n",
    "constraints_df.head(10)"
   ]
  },
  {
   "cell_type": "markdown",
   "id": "157ee117-670b-4a30-959b-e44e46f36412",
   "metadata": {},
   "source": [
    "## View CloudWatch Logs\n",
    "\n",
    "Incorporate alerts and/or retraining based on violations found during the monitoring job.  When violations are found, SageMaker's managed model monitor container will emit a message to AWS CloudWatch logs.  "
   ]
  },
  {
   "cell_type": "code",
   "execution_count": null,
   "id": "80ea4377-134f-4f86-baf5-63a62143497b",
   "metadata": {
    "tags": []
   },
   "outputs": [],
   "source": [
    "cw_logs_client = boto3.client('logs')\n",
    "\n",
    "response = cw_logs_client.describe_log_streams(\n",
    "    logGroupName='/aws/sagemaker/ProcessingJobs',\n",
    "    logStreamNamePrefix=monitoring.job_name.split(\"monitorcustomerchurn\")[0],\n",
    "    \n",
    ")\n"
   ]
  },
  {
   "cell_type": "code",
   "execution_count": null,
   "id": "ac42bd25-22c9-4df5-8a3c-c517721f2fcc",
   "metadata": {
    "tags": []
   },
   "outputs": [],
   "source": [
    "\n",
    "log_group = '/aws/sagemaker/ProcessingJobs'\n",
    "log_stream_name = [response['logStreams'][0]['logStreamName']]\n",
    "\n",
    "\n",
    "query = f\"CompletedWithViolations\"\n",
    "\n",
    "violations_query_response = cw_logs_client.filter_log_events(\n",
    "    logGroupName=log_group,\n",
    "    logStreamNames = log_stream_name,\n",
    "    filterPattern=\"CompletedWithViolations\"\n",
    ")"
   ]
  },
  {
   "cell_type": "code",
   "execution_count": null,
   "id": "f36969ad-cace-4474-bbf3-a5abc006639c",
   "metadata": {
    "tags": []
   },
   "outputs": [],
   "source": [
    "violations_query_response"
   ]
  },
  {
   "cell_type": "markdown",
   "id": "b9cba11d-0a38-45a1-84f0-d1b637818867",
   "metadata": {},
   "source": [
    "## Handling Monitoring Violations\n",
    "\n",
    "![Violations](./images/AIM321-Handling-Violations-1.jpg)"
   ]
  },
  {
   "cell_type": "code",
   "execution_count": null,
   "id": "703d7d48-d1e0-4ed8-aeb4-26688a7e385a",
   "metadata": {},
   "outputs": [],
   "source": []
  }
 ],
 "metadata": {
  "instance_type": "ml.t3.medium",
  "kernelspec": {
   "display_name": "Python 3 (Data Science)",
   "language": "python",
   "name": "python3__SAGEMAKER_INTERNAL__arn:aws:sagemaker:us-east-1:081325390199:image/datascience-1.0"
  },
  "language_info": {
   "codemirror_mode": {
    "name": "ipython",
    "version": 3
   },
   "file_extension": ".py",
   "mimetype": "text/x-python",
   "name": "python",
   "nbconvert_exporter": "python",
   "pygments_lexer": "ipython3",
   "version": "3.7.10"
  }
 },
 "nbformat": 4,
 "nbformat_minor": 5
}
